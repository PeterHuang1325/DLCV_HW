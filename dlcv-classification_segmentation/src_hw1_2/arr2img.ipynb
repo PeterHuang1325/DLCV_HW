{
 "cells": [
  {
   "cell_type": "code",
   "execution_count": 3,
   "id": "1e0e403c",
   "metadata": {},
   "outputs": [],
   "source": [
    "import numpy as np\n",
    "import time\n",
    "import os\n",
    "import imageio\n",
    "from PIL import Image\n",
    "import PIL.ImageOps "
   ]
  },
  {
   "cell_type": "code",
   "execution_count": 4,
   "id": "9db70e9f",
   "metadata": {},
   "outputs": [
    {
     "name": "stdout",
     "output_type": "stream",
     "text": [
      "README.md       \u001b[0m\u001b[01;34mhw1_data\u001b[0m/             \u001b[01;34moutputs_2\u001b[0m/        viz_mask.py\n",
      "get_dataset.sh  hw1_data.zip          requirements.txt\n",
      "hw1_1.sh        mean_iou_evaluate.py  \u001b[01;34msrc_hw1_1\u001b[0m/\n",
      "hw1_2.sh        \u001b[01;34moutputs\u001b[0m/              \u001b[01;34msrc_hw1_2\u001b[0m/\n"
     ]
    }
   ],
   "source": [
    "%ls"
   ]
  },
  {
   "cell_type": "code",
   "execution_count": 5,
   "id": "14b164d2",
   "metadata": {},
   "outputs": [],
   "source": [
    "read_path = './outputs_2/preds/'\n",
    "\n",
    "img1 = np.load(os.path.join(read_path, 'pred_0013.npz'))\n",
    "img2 = np.load(os.path.join(read_path, 'pred_0062.npz'))\n",
    "img3 = np.load(os.path.join(read_path, 'pred_00104.npz'))"
   ]
  },
  {
   "cell_type": "code",
   "execution_count": 6,
   "id": "c975fda5",
   "metadata": {},
   "outputs": [],
   "source": [
    "idx2img = dict()\n",
    "img_name = ['0013', '0062', '0104']\n",
    "for i in range(3):\n",
    "    idx2img[i] = img_name[i]"
   ]
  },
  {
   "cell_type": "code",
   "execution_count": 7,
   "id": "af19020b",
   "metadata": {},
   "outputs": [
    {
     "data": {
      "text/plain": [
       "{0: '0013', 1: '0062', 2: '0104'}"
      ]
     },
     "execution_count": 7,
     "metadata": {},
     "output_type": "execute_result"
    }
   ],
   "source": [
    "idx2img"
   ]
  },
  {
   "cell_type": "code",
   "execution_count": 28,
   "id": "38182b05",
   "metadata": {},
   "outputs": [
    {
     "data": {
      "text/plain": [
       "(512, 512)"
      ]
     },
     "execution_count": 28,
     "metadata": {},
     "output_type": "execute_result"
    }
   ],
   "source": [
    "np.expand_dims(img['middle'], axis=-1)[:,:,0].shape"
   ]
  },
  {
   "cell_type": "code",
   "execution_count": 29,
   "id": "6c55cc6d",
   "metadata": {},
   "outputs": [],
   "source": [
    "stages = ['first', 'middle', 'last']\n",
    "images = [img1, img2, img3]\n",
    "\n",
    "for i, img in enumerate(images):\n",
    "    for stg in stages:\n",
    "        imageio.imsave(os.path.join(read_path, f'{idx2img[i]}_{stg}_pred.png'), np.uint8(img[stg]))"
   ]
  }
 ],
 "metadata": {
  "kernelspec": {
   "display_name": "dlcv",
   "language": "python",
   "name": "dlcv_hw1"
  },
  "language_info": {
   "codemirror_mode": {
    "name": "ipython",
    "version": 3
   },
   "file_extension": ".py",
   "mimetype": "text/x-python",
   "name": "python",
   "nbconvert_exporter": "python",
   "pygments_lexer": "ipython3",
   "version": "3.8.13"
  }
 },
 "nbformat": 4,
 "nbformat_minor": 5
}
